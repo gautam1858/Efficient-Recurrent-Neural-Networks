{
 "cells": [
  {
   "cell_type": "markdown",
   "metadata": {},
   "source": [
    "# Permuted Pixel MNIST Demo \n",
    "Light weighted demo of our DilatedRNN on Pixel MNist with permutation."
   ]
  },
  {
   "cell_type": "code",
   "execution_count": 18,
   "metadata": {},
   "outputs": [],
   "source": [
    "import sys\n",
    "sys.path.append(\"./models\")\n",
    "import numpy as np\n",
    "import tensorflow as tf\n",
    "from tensorflow.examples.tutorials.mnist import input_data\n",
    "from classification_models import drnn_classification"
   ]
  },
  {
   "cell_type": "code",
   "execution_count": 26,
   "metadata": {
    "collapsed": true
   },
   "outputs": [],
   "source": [
    "# configurations\n",
    "data_dir = \"./MNIST_data\"\n",
    "n_steps = 28*28\n",
    "input_dims = 1\n",
    "n_classes = 10 \n",
    "\n",
    "# model config\n",
    "cell_type = \"RNN\"\n",
    "assert(cell_type in [\"RNN\", \"LSTM\", \"GRU\"])\n",
    "hidden_structs = [20] * 9\n",
    "dilations = [1, 2, 4, 8, 16, 32, 64, 128, 256]\n",
    "assert(len(hidden_structs) == len(dilations))\n",
    "\n",
    "# learning config\n",
    "batch_size = 128\n",
    "learning_rate = 1.0e-3\n",
    "training_iters = batch_size * 300\n",
    "testing_step = 5000\n",
    "display_step = 100\n",
    "\n",
    "# permutation seed \n",
    "seed = 92916"
   ]
  },
  {
   "cell_type": "code",
   "execution_count": 20,
   "metadata": {},
   "outputs": [
    {
     "name": "stdout",
     "output_type": "stream",
     "text": [
      "Extracting ./MNIST_data/train-images-idx3-ubyte.gz\n",
      "Extracting ./MNIST_data/train-labels-idx1-ubyte.gz\n",
      "Extracting ./MNIST_data/t10k-images-idx3-ubyte.gz\n",
      "Extracting ./MNIST_data/t10k-labels-idx1-ubyte.gz\n"
     ]
    }
   ],
   "source": [
    "mnist = input_data.read_data_sets(data_dir, one_hot=True)\n",
    "if 'seed' in globals():\n",
    "    rng_permute = np.random.RandomState(seed)\n",
    "    idx_permute = rng_permute.permutation(n_steps)\n",
    "else:\n",
    "    idx_permute = np.random.permutation(n_steps)"
   ]
  },
  {
   "cell_type": "code",
   "execution_count": 21,
   "metadata": {},
   "outputs": [
    {
     "name": "stdout",
     "output_type": "stream",
     "text": [
      "==> Building a dRNN with RNN cells\n",
      "Building layer: multi_dRNN_dilation_1, input length: 784, dilation rate: 1, input dim: 1.\n",
      "=====> Input length for sub-RNN: 784\n",
      "Building layer: multi_dRNN_dilation_2, input length: 784, dilation rate: 2, input dim: 20.\n",
      "=====> Input length for sub-RNN: 392\n",
      "Building layer: multi_dRNN_dilation_4, input length: 784, dilation rate: 4, input dim: 20.\n",
      "=====> Input length for sub-RNN: 196\n",
      "Building layer: multi_dRNN_dilation_8, input length: 784, dilation rate: 8, input dim: 20.\n",
      "=====> Input length for sub-RNN: 98\n",
      "Building layer: multi_dRNN_dilation_16, input length: 784, dilation rate: 16, input dim: 20.\n",
      "=====> Input length for sub-RNN: 49\n",
      "Building layer: multi_dRNN_dilation_32, input length: 784, dilation rate: 32, input dim: 20.\n",
      "=====> 16 time points need to be padded. \n",
      "=====> Input length for sub-RNN: 25\n",
      "Building layer: multi_dRNN_dilation_64, input length: 784, dilation rate: 64, input dim: 20.\n",
      "=====> 48 time points need to be padded. \n",
      "=====> Input length for sub-RNN: 13\n",
      "Building layer: multi_dRNN_dilation_128, input length: 784, dilation rate: 128, input dim: 20.\n",
      "=====> 112 time points need to be padded. \n",
      "=====> Input length for sub-RNN: 7\n",
      "Building layer: multi_dRNN_dilation_256, input length: 784, dilation rate: 256, input dim: 20.\n",
      "=====> 240 time points need to be padded. \n",
      "=====> Input length for sub-RNN: 4\n"
     ]
    }
   ],
   "source": [
    "# build computation graph\n",
    "tf.reset_default_graph()\n",
    "x = tf.placeholder(tf.float32, [None, n_steps, input_dims])\n",
    "y = tf.placeholder(tf.float32, [None, n_classes])    \n",
    "global_step = tf.Variable(0, name='global_step', trainable=False)\n",
    "\n",
    "# build prediction graph\n",
    "print (\"==> Building a dRNN with %s cells\" %cell_type)\n",
    "pred = drnn_classification(x, hidden_structs, dilations, n_steps, n_classes, input_dims, cell_type)\n",
    "\n",
    "# build loss and optimizer\n",
    "cost = tf.reduce_mean(tf.nn.softmax_cross_entropy_with_logits(logits=pred, labels=y))\n",
    "optimizer = tf.train.RMSPropOptimizer(learning_rate, 0.9).minimize(cost, global_step=global_step)\n",
    "tf.summary.scalar('cost', cost)\n",
    "# evaluation model\n",
    "correct_pred = tf.equal(tf.argmax(pred,1), tf.argmax(y,1))\n",
    "accuracy = tf.reduce_mean(tf.cast(correct_pred, tf.float32))\n",
    "tf.summary.scalar('cost', accuracy)\n",
    "merged_summary_op = tf.summary.merge_all()"
   ]
  },
  {
   "cell_type": "code",
   "execution_count": 32,
   "metadata": {
    "collapsed": true
   },
   "outputs": [],
   "source": [
    "sess = tf.Session()\n",
    "init = tf.global_variables_initializer()\n",
    "merged_summary_op = tf.summary.merge_all()\n",
    "sess.run(init)\n",
    "summary_writer = tf.summary.FileWriter('graphs', sess.graph)"
   ]
  },
  {
   "cell_type": "code",
   "execution_count": 33,
   "metadata": {},
   "outputs": [
    {
     "name": "stdout",
     "output_type": "stream",
     "text": [
      "Iter 100, Minibatch Loss: 1.258374, Training Accuracy: 0.632812\n",
      "Iter 200, Minibatch Loss: 0.660089, Training Accuracy: 0.851562\n",
      "Iter 300, Minibatch Loss: 0.477038, Training Accuracy: 0.867188\n"
     ]
    }
   ],
   "source": [
    "step = 0\n",
    "train_results = []\n",
    "validation_results = []\n",
    "test_results = []\n",
    "\n",
    "while step * batch_size < training_iters:\n",
    "    batch_x, batch_y = mnist.train.next_batch(batch_size)    \n",
    "    batch_x = batch_x[:, idx_permute]\n",
    "    batch_x = batch_x.reshape([batch_size, n_steps, input_dims])\n",
    "\n",
    "    feed_dict = {\n",
    "        x : batch_x,\n",
    "        y : batch_y\n",
    "    }\n",
    "    cost_, accuracy_, step_,  _,summary_str = sess.run([cost, accuracy, global_step, optimizer,merged_summary_op], feed_dict=feed_dict)    \n",
    "    train_results.append((step_, cost_, accuracy_))    \n",
    "    \n",
    "    summary_writer.add_summary(summary_str, step)\n",
    "\n",
    "    if (step + 1) % display_step == 0:\n",
    "        print (\"Iter \" + str(step + 1) + \", Minibatch Loss: \" + \"{:.6f}\".format(cost_) \\\n",
    "        + \", Training Accuracy: \" + \"{:.6f}\".format(accuracy_))\n",
    "             \n",
    "    if (step + 1) % testing_step == 0:\n",
    "        \n",
    "        # validation performance\n",
    "        batch_x = mnist.validation.images\n",
    "        batch_y = mnist.validation.labels\n",
    "\n",
    "        # permute the data\n",
    "        batch_x = batch_x[:, idx_permute]        \n",
    "        batch_x = batch_x.reshape([-1, n_steps, input_dims])\n",
    "        feed_dict = {\n",
    "            x : batch_x,\n",
    "            y : batch_y\n",
    "        }\n",
    "        cost_, accuracy__, step_ = sess.run([cost, accuracy, global_step], feed_dict=feed_dict)\n",
    "        validation_results.append((step_, cost_, accuracy__))\n",
    "        # test performance\n",
    "        batch_x = mnist.test.images\n",
    "        batch_y = mnist.test.labels\n",
    "        batch_x = batch_x[:, idx_permute]        \n",
    "        batch_x = batch_x.reshape([-1, n_steps, input_dims])\n",
    "        feed_dict = {\n",
    "            x : batch_x,\n",
    "            y : batch_y\n",
    "        }\n",
    "        cost_, accuracy_, step_ = sess.run([cost, accuracy, global_step], feed_dict=feed_dict)\n",
    "        test_results.append((step_, cost_, accuracy_))        \n",
    "        print (\"========> Validation Accuarcy: \" + \"{:.6f}\".format(accuracy__) \\\n",
    "        + \", Testing Accuarcy: \" + \"{:.6f}\".format(accuracy_))\n",
    "    step += 1"
   ]
  },
  {
   "cell_type": "code",
   "execution_count": null,
   "metadata": {
    "collapsed": true
   },
   "outputs": [],
   "source": []
  }
 ],
 "metadata": {
  "celltoolbar": "Raw Cell Format",
  "kernelspec": {
   "display_name": "Python 3",
   "language": "python",
   "name": "python3"
  },
  "language_info": {
   "codemirror_mode": {
    "name": "ipython",
    "version": 3
   },
   "file_extension": ".py",
   "mimetype": "text/x-python",
   "name": "python",
   "nbconvert_exporter": "python",
   "pygments_lexer": "ipython3",
   "version": "3.6.5"
  }
 },
 "nbformat": 4,
 "nbformat_minor": 2
}
